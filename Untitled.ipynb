{
 "cells": [
  {
   "cell_type": "code",
   "execution_count": 13,
   "id": "abc52ef8-4bcb-4f0c-ae3b-6e74ebe2435e",
   "metadata": {},
   "outputs": [],
   "source": [
    "import pandas as pd"
   ]
  },
  {
   "cell_type": "code",
   "execution_count": 14,
   "id": "3bd704b5-e752-4a97-af8c-8e6331711ac2",
   "metadata": {},
   "outputs": [
    {
     "name": "stdout",
     "output_type": "stream",
     "text": [
      "Data sin imputaciones  Transaction_ID        0\n",
      "Date_buy_buy              0\n",
      "Customer_ID           0\n",
      "Gender                8\n",
      "Age                   0\n",
      "Product_Category      0\n",
      "Quantity              0\n",
      "Price_per_Unit        0\n",
      "Total_Amount          2\n",
      "Estado_de_la_orden    0\n",
      "Zona_de_Entrega       0\n",
      "Zona_registrada       0\n",
      "Has_Voucher           0\n",
      "Payment_method        0\n",
      "Telefono_contato      0\n",
      "dtype: int64\n"
     ]
    }
   ],
   "source": [
    "data = pd.read_excel('Proyecto_final_IN2023.xlsx')\n",
    "missingData = data.isnull().sum()\n",
    "print(\"Data sin imputaciones \",missingData)"
   ]
  },
  {
   "cell_type": "code",
   "execution_count": 15,
   "id": "044bafd9-f75d-4d0a-81b7-236e99aaa39c",
   "metadata": {},
   "outputs": [
    {
     "name": "stdout",
     "output_type": "stream",
     "text": [
      "Data con imputaciones  Transaction_ID        0\n",
      "Date_buy_buy              0\n",
      "Customer_ID           0\n",
      "Gender                0\n",
      "Age                   0\n",
      "Product_Category      0\n",
      "Quantity              0\n",
      "Price_per_Unit        0\n",
      "Total_Amount          0\n",
      "Estado_de_la_orden    0\n",
      "Zona_de_Entrega       0\n",
      "Zona_registrada       0\n",
      "Has_Voucher           0\n",
      "Payment_method        0\n",
      "Telefono_contato      0\n",
      "dtype: int64\n"
     ]
    }
   ],
   "source": [
    "# Imputación de datos\n",
    "# Gender con moda\n",
    "data['Gender'].fillna(data['Gender'].mode()[0], inplace=True)\n",
    "\n",
    "# Total_Amount calculandolo\n",
    "data.loc[data['Total_Amount'].isnull(), 'Total_Amount'] = data['Price_per_Unit'] * data['Quantity']\n",
    "\n",
    "print(\"Data con imputaciones \",data.isnull().sum())\n",
    "\n",
    "\n"
   ]
  },
  {
   "cell_type": "code",
   "execution_count": 16,
   "id": "143ae273-f256-4799-8bb7-0314eff72068",
   "metadata": {},
   "outputs": [
    {
     "name": "stdout",
     "output_type": "stream",
     "text": [
      "       Transaction_ID                       Date_buy_buy          Age  \\\n",
      "count     1129.000000                           1129  1129.000000   \n",
      "mean       782.309123  2023-07-06 13:27:22.161204736    41.112489   \n",
      "min          1.000000            2023-01-01 00:00:00    18.000000   \n",
      "25%        283.000000            2023-04-08 00:00:00    29.000000   \n",
      "50%        565.000000            2023-07-01 00:00:00    41.000000   \n",
      "75%        847.000000            2023-10-11 00:00:00    53.000000   \n",
      "max      20420.000000            2024-01-01 00:00:00    64.000000   \n",
      "std       1985.051781                            NaN    13.686870   \n",
      "\n",
      "          Quantity  Price_per_Unit  Total_Amount  Telefono_contato  \n",
      "count  1129.000000     1129.000000   1129.000000      1.129000e+03  \n",
      "mean      2.598760      163.494243    424.557130      2.230641e+08  \n",
      "min       1.000000        5.000000     10.000000      8.956500e+04  \n",
      "25%       1.000000       30.000000     60.000000      2.619715e+06  \n",
      "50%       2.000000       50.000000    120.000000      5.005151e+06  \n",
      "75%       4.000000      300.000000    500.000000      7.552619e+06  \n",
      "max      20.000000     2000.000000  20000.000000      7.897249e+10  \n",
      "std       1.493852      197.360778    830.475105      3.510671e+09  \n"
     ]
    }
   ],
   "source": [
    "stats = data.describe()\n",
    "print(stats)\n",
    "# Creamos un nuevo dataframe sin datos nulos\n",
    "data.to_excel('Proyecto_final_IN2023_upDate_buy.xlsx', index=False)"
   ]
  }
 ],
 "metadata": {
  "kernelspec": {
   "display_name": "Python 3 (ipykernel)",
   "language": "python",
   "name": "python3"
  },
  "language_info": {
   "codemirror_mode": {
    "name": "ipython",
    "version": 3
   },
   "file_extension": ".py",
   "mimetype": "text/x-python",
   "name": "python",
   "nbconvert_exporter": "python",
   "pygments_lexer": "ipython3",
   "version": "3.11.5"
  }
 },
 "nbformat": 4,
 "nbformat_minor": 5
}
